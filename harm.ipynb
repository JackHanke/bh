{
 "cells": [
  {
   "cell_type": "markdown",
   "metadata": {},
   "source": [
    "# MSAI BH Sim Exploration\n",
    "Members: Jack, Arjun, Ruchi"
   ]
  },
  {
   "cell_type": "code",
   "execution_count": 1,
   "metadata": {},
   "outputs": [],
   "source": [
    "%load_ext autoreload\n",
    "%autoreload 2\n",
    "%run -i harmpi/harm_script.py"
   ]
  },
  {
   "cell_type": "code",
   "execution_count": 2,
   "metadata": {},
   "outputs": [
    {
     "name": "stdout",
     "output_type": "stream",
     "text": [
      "The time associated with dump000 is: 0.0\n"
     ]
    }
   ],
   "source": [
    "from utils.utils import read_dump_util\n",
    "\n",
    "# NOTE read_dump_util replaces rd('dump000') for msai code\n",
    "\n",
    "dump_name = 'dump000'\n",
    "_, dump_dict = read_dump_util(dump=dump_name)\n",
    "t = dump_dict['t']\n",
    "print(f'The time associated with {dump_name} is: {t}')"
   ]
  },
  {
   "cell_type": "code",
   "execution_count": 3,
   "metadata": {},
   "outputs": [
    {
     "name": "stdout",
     "output_type": "stream",
     "text": [
      "Number of Dumps: 29\n"
     ]
    }
   ],
   "source": [
    "# reads all dumps in file system\n",
    "import os\n",
    "import re\n",
    "\n",
    "dumps = []\n",
    "for filename in os.listdir('harmpi/dumps'):\n",
    "    if re.match(r'^dump\\d+$', filename):\n",
    "        dumps.append(filename)\n",
    "dumps.sort()\n",
    "num_dumps = len(dumps)\n",
    "print(f'Number of Dumps: {num_dumps}')\n"
   ]
  },
  {
   "cell_type": "code",
   "execution_count": 4,
   "metadata": {},
   "outputs": [
    {
     "name": "stdout",
     "output_type": "stream",
     "text": [
      "Shape of the dataset: torch.Size([29, 8, 128, 128])\n"
     ]
    }
   ],
   "source": [
    "# translate dump data into tensors\n",
    "import torch\n",
    "\n",
    "# TODO make dataset\n",
    "data = []\n",
    "for dump in dumps:\n",
    "    _, dump_dict = read_dump_util(dump=dump)\n",
    "\n",
    "    # rd(dump)\n",
    "    rho = dump_dict['rho']\n",
    "    ug = dump_dict['ug']\n",
    "    uu = dump_dict['uu']\n",
    "    B = dump_dict['B']\n",
    "\n",
    "    rho_tensor = torch.tensor(rho).squeeze(2).unsqueeze(0)\n",
    "    ug_tensor = torch.tensor(ug).squeeze(2).unsqueeze(0)\n",
    "    uu_tensor = torch.tensor(uu[1:4]).squeeze(3)\n",
    "    B_tensor = torch.tensor(B[1:4]).squeeze(3)\n",
    "    \n",
    "    data_tensor = torch.cat((rho_tensor, ug_tensor, uu_tensor, B_tensor), dim=0)\n",
    "    data.append(data_tensor.unsqueeze(0))\n",
    "\n",
    "data = torch.cat(data, dim=0)\n",
    "print(f'Shape of the dataset: {data.shape}')"
   ]
  },
  {
   "cell_type": "code",
   "execution_count": null,
   "metadata": {},
   "outputs": [],
   "source": [
    "# make prediction dataloaders\n",
    "from torch.utils.data import Dataset, DataLoader, random_split\n",
    "\n",
    "class PredictionDataset(Dataset):\n",
    "    def __init__(self, dataset):\n",
    "        self.dataset = dataset\n",
    "\n",
    "    def __len__(self):\n",
    "        return len(self.dataset)-1\n",
    "\n",
    "    def __getitem__(self, idx):\n",
    "        data = self.dataset[idx]\n",
    "        label = self.dataset[idx+1]\n",
    "        return data, label\n",
    "\n",
    "# \n",
    "def make_prediction_dataloaders(batch_size: int = 8):\n",
    "    loaded_data = PredictionDataset(data)\n",
    "    train_size = int(0.7 * len(loaded_data))\n",
    "    val_size = int(0.15 * len(loaded_data))\n",
    "    test_size = len(loaded_data) - train_size - val_size\n",
    "    train_dataset, val_dataset, test_dataset = random_split(loaded_data, [train_size, val_size, test_size])\n",
    "\n",
    "    # create DataLoaders for each split\n",
    "    train_loader = DataLoader(train_dataset, batch_size=batch_size, shuffle=True)\n",
    "    val_loader = DataLoader(val_dataset, batch_size=batch_size, shuffle=False)\n",
    "    test_loader = DataLoader(test_dataset, batch_size=batch_size, shuffle=False)\n",
    "    return train_loader, val_loader, test_loader\n",
    "\n",
    "train_loader, val_loader, test_loader = make_prediction_dataloaders()\n"
   ]
  },
  {
   "cell_type": "code",
   "execution_count": null,
   "metadata": {},
   "outputs": [],
   "source": [
    "from models.ffnn.ffnn import FFNN, train_ffnn\n",
    "\n",
    "# initialize net\n",
    "net = FFNN(\n",
    "    input_dim = 8*128*128,\n",
    "    version_str = 'v0.0.0'\n",
    ")\n",
    "\n",
    "# train net\n",
    "losses = train_ffnn(\n",
    "    model = net,\n",
    "    epochs = 25,\n",
    "    train_loader = train_loader,\n",
    "    valid_loader = val_loader,\n",
    "    verbose=False,\n",
    "    plot_learning_curves=True,\n",
    ")\n",
    "\n",
    "# save state dictionary of model\n",
    "net.save()\n",
    "\n"
   ]
  },
  {
   "cell_type": "code",
   "execution_count": null,
   "metadata": {},
   "outputs": [],
   "source": [
    "# load model state dictionary\n",
    "net = FFNN(input_dim = 8*128*128)\n",
    "net.load_state_dict(torch.load(f'models/ffnn/saves/ffnn_v0.0.0.pth', weights_only=True))"
   ]
  },
  {
   "cell_type": "code",
   "execution_count": null,
   "metadata": {},
   "outputs": [],
   "source": [
    "from utils.anim import animate_comparison\n",
    "\n",
    "# structure dumps data for animation\n",
    "def make_ground_truth_frames():\n",
    "    ground_truths = []\n",
    "    for dump in dumps:\n",
    "        _, dump_dict = read_dump_util(dump=dump)\n",
    "        ground_truth_array = dump_dict['rho'][:,:,0].transpose()\n",
    "        ground_truth_array = np.log10(ground_truth_array)\n",
    "        ground_truths.append(ground_truth_array)\n",
    "\n",
    "    return ground_truths\n",
    "\n",
    "# run FFNN from starting dump for length of dumps\n",
    "# returns formatted predictions \n",
    "def make_prediciton_frames(first_frame: torch.Tensor, num_frames: int):\n",
    "    # helper for adding formatted frame to predictions array\n",
    "    def postprocess_and_add(predictions: list, frame: torch.Tensor):\n",
    "        # format tensor to array for animation\n",
    "        # NOTE ugliest thing ever please fix\n",
    "        # NOTE second 0 means rho!\n",
    "        frame_array = frame[0][0].unsqueeze(-1).detach().numpy()[:,:,0].transpose()\n",
    "        \n",
    "        # NOTE transform \n",
    "        frame_array = np.log10(frame_array)\n",
    "        \n",
    "        predictions.append(frame_array)\n",
    "\n",
    "    net.eval()\n",
    "    # get first datapoint\n",
    "    frame = first_frame\n",
    "    predictions = []\n",
    "    batch_len = 1\n",
    "    # create prediction list\n",
    "    for frame_num in range(num_frames):\n",
    "        # copy and postprocess frame, add to predictions\n",
    "        postprocess_and_add(predictions=predictions, frame=frame.clone().detach())\n",
    "        # reshape for network\n",
    "        frame_reshaped = torch.reshape(frame, (batch_len,8*128*128))\n",
    "        # forward pass\n",
    "        raw_frame = net.forward(frame_reshaped)\n",
    "        # reshape for animation\n",
    "        frame = torch.reshape(raw_frame, (batch_len,8,128,128))\n",
    "\n",
    "    return predictions\n",
    "\n",
    "# \n",
    "ground_truths = make_ground_truth_frames()\n",
    "\n",
    "# \n",
    "predictions = make_prediciton_frames(first_frame=data[0].unsqueeze(0), num_frames=len(dumps))\n",
    "\n",
    "# animate\n",
    "animate_comparison(\n",
    "    ground_truths = ground_truths, \n",
    "    predictions = predictions, \n",
    "    save_path = './movies/movie.gif',\n",
    "    cb = True\n",
    ")\n"
   ]
  },
  {
   "cell_type": "code",
   "execution_count": 7,
   "metadata": {},
   "outputs": [],
   "source": [
    "# make encoding dataloaders\n",
    "from torch.utils.data import Dataset, DataLoader, random_split\n",
    "\n",
    "class EncodingDataset(Dataset):\n",
    "    def __init__(self, dataset):\n",
    "        self.dataset = dataset\n",
    "\n",
    "    def __len__(self):\n",
    "        return len(self.dataset)-1\n",
    "\n",
    "    def __getitem__(self, idx):\n",
    "        data = self.dataset[idx]\n",
    "        label = self.dataset[idx]\n",
    "        return data, label\n",
    "\n",
    "# \n",
    "def make_encoding_dataloaders(data, batch_size: int = 8):\n",
    "    loaded_data = EncodingDataset(data)\n",
    "    train_size = int(0.7 * len(loaded_data))\n",
    "    val_size = len(loaded_data) - train_size\n",
    "    train_dataset, val_dataset = random_split(loaded_data, [train_size, val_size])\n",
    "\n",
    "    # create DataLoaders for each split\n",
    "    train_loader = DataLoader(train_dataset, batch_size=batch_size, shuffle=True)\n",
    "    val_loader = DataLoader(val_dataset, batch_size=batch_size, shuffle=False)\n",
    "    return train_loader, val_loader\n",
    "\n",
    "\n",
    "train_loader, val_loader = make_encoding_dataloaders(data=data)\n"
   ]
  },
  {
   "cell_type": "code",
   "execution_count": 10,
   "metadata": {},
   "outputs": [
    {
     "data": {
      "image/png": "[encoded data removed]",
      "text/plain": [
       "<Figure size 640x480 with 1 Axes>"
      ]
     },
     "metadata": {},
     "output_type": "display_data"
    },
    {
     "name": "stdout",
     "output_type": "stream",
     "text": [
      "Saved model as models/ffnn/saves/ae_v0.0.0.pth\n"
     ]
    }
   ],
   "source": [
    "from models.ffnn.ffnn import AE, train_ffnn\n",
    "\n",
    "# initialize net\n",
    "ae = AE(\n",
    "    input_dim = 8 * 128 * 128,\n",
    "    latent_dim = 3 * 10 * 10,\n",
    "    version_str = 'v0.0.0'\n",
    ")\n",
    "\n",
    "# train net\n",
    "losses = train_ffnn(\n",
    "    model = ae,\n",
    "    epochs = 5,\n",
    "    train_loader = train_loader,\n",
    "    valid_loader = val_loader,\n",
    "    verbose=False,\n",
    "    plot_learning_curves=True,\n",
    ")\n",
    "\n",
    "# save state dictionary of model\n",
    "ae.save()"
   ]
  },
  {
   "cell_type": "code",
   "execution_count": null,
   "metadata": {},
   "outputs": [],
   "source": []
  }
 ],
 "metadata": {
  "kernelspec": {
   "display_name": "msai339",
   "language": "python",
   "name": "python3"
  },
  "language_info": {
   "codemirror_mode": {
    "name": "ipython",
    "version": 3
   },
   "file_extension": ".py",
   "mimetype": "text/x-python",
   "name": "python",
   "nbconvert_exporter": "python",
   "pygments_lexer": "ipython3",
   "version": "3.10.14"
  }
 },
 "nbformat": 4,
 "nbformat_minor": 2
}
