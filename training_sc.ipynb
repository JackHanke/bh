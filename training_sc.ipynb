{
 "cells": [
  {
   "cell_type": "markdown",
   "id": "def1b67d",
   "metadata": {},
   "source": [
    "# Training Workbook for Supercomputer Environment\n",
    "\n",
    "## Setup Global Variables and Harm2d Functions"
   ]
  },
  {
   "cell_type": "code",
   "execution_count": 6,
   "id": "0c008e46",
   "metadata": {},
   "outputs": [
    {
     "name": "stdout",
     "output_type": "stream",
     "text": [
      "Running setup scripts...\n",
      "Execution time: 5.834523439407349\n",
      "Imports and setup done.\n"
     ]
    }
   ],
   "source": [
    "## Setup and configs\n",
    "# imports\n",
    "import os\n",
    "import time\n",
    "import matplotlib\n",
    "import matplotlib.pyplot as plt\n",
    "# global variables\n",
    "global notebook\n",
    "global axisym,set_cart,axisym,REF_1,REF_2,REF_3,set_cart,D,print_fieldlines\n",
    "global lowres1,lowres2,lowres3, RAD_M1, RESISTIVE, export_raytracing_GRTRANS, export_raytracing_RAZIEH,r1,r2,r3\n",
    "global r_min, r_max, theta_min, theta_max, phi_min,phi_max, do_griddata, do_box, check_files, kerr_schild\n",
    "\n",
    "global do_train\n",
    "## NOTE toggle do_train to run training on setup\n",
    "do_train = False\n",
    "\n",
    "notebook = 1\n",
    "\n",
    "# total data is shape (10000, 224, 48, 96)\n",
    "harm_directory = os.environ['HOME']+f'/bh/harm2d'\n",
    "os.chdir(harm_directory)\n",
    "\n",
    "print(f'Running setup scripts...')\n",
    "start_time = time.time()\n",
    "%run -i setup.py build_ext --inplace\n",
    "%run -i pp.py build_ext --inplace\n",
    "print(f\"Execution time: {time.time() - start_time}\")\n",
    "\n",
    "# set params\n",
    "lowres1 = 1 # \n",
    "lowres2 = 1 # \n",
    "lowres3 = 1 # \n",
    "r_min, r_max = 1.0, 100.0\n",
    "theta_min, theta_max = 0.0, 9\n",
    "phi_min, phi_max = -1, 9\n",
    "do_box=0\n",
    "set_cart=0\n",
    "set_mpi(0)\n",
    "axisym=1\n",
    "print_fieldlines=0\n",
    "export_raytracing_GRTRANS=0\n",
    "export_raytracing_RAZIEH=0\n",
    "kerr_schild=0\n",
    "DISK_THICKNESS=0.03\n",
    "check_files=1\n",
    "notebook=1\n",
    "interpolate_var=0\n",
    "AMR = 0 # get all data in grid\n",
    "\n",
    "print('Imports and setup done.')\n",
    "%matplotlib inline"
   ]
  },
  {
   "cell_type": "code",
   "execution_count": null,
   "id": "8f086a25-fb7d-4f72-b918-1dc0fabb2396",
   "metadata": {},
   "outputs": [],
   "source": [
    "import os\n",
    "import time\n",
    "harm_directory = os.environ['HOME']+f'/bh/harm2d'\n",
    "os.chdir(harm_directory)\n",
    "\n",
    "print(f'Running async setup scripts...')\n",
    "start_time = time.time()\n",
    "%run -i async_read.py build_ext --inplace\n",
    "print(f\"Execution time: {time.time() - start_time}\")"
   ]
  },
  {
   "cell_type": "markdown",
   "id": "a7a2337e-7d37-4fc1-9483-6db60e42f615",
   "metadata": {},
   "source": [
    "## Visualization"
   ]
  },
  {
   "cell_type": "code",
   "execution_count": null,
   "id": "6a088937-c19e-4051-9ca4-e8a1a45585b8",
   "metadata": {},
   "outputs": [],
   "source": [
    "print(f'Running setup scripts...')\n",
    "start_time = time.time()\n",
    "%run -i async_read.py build_ext --inplace\n",
    "print(f\"Execution time: {time.time() - start_time}\")\n",
    "%matplotlib inline"
   ]
  },
  {
   "cell_type": "code",
   "execution_count": 7,
   "id": "5a256c43",
   "metadata": {},
   "outputs": [
    {
     "name": "stdout",
     "output_type": "stream",
     "text": [
      "Rendering using model at: /global/homes/a/arjuna/bh/harm2d/models/cnn/saves/b3_v0.1.0.pth \n",
      "\n",
      "Saving 50 at: /global/homes/a/arjuna/bh/movies/sc_pred_frames/.\n"
     ]
    },
    {
     "name": "stderr",
     "output_type": "stream",
     "text": [
      "  0%|          | 0/50 [00:00<?, ?it/s]\n"
     ]
    },
    {
     "ename": "NameError",
     "evalue": "name 'r' is not defined",
     "output_type": "error",
     "traceback": [
      "\u001b[31m---------------------------------------------------------------------------\u001b[39m",
      "\u001b[31mNameError\u001b[39m                                 Traceback (most recent call last)",
      "\u001b[36mCell\u001b[39m\u001b[36m \u001b[39m\u001b[32mIn[7]\u001b[39m\u001b[32m, line 56\u001b[39m\n\u001b[32m     52\u001b[39m \u001b[38;5;28;01mfor\u001b[39;00m index \u001b[38;5;129;01min\u001b[39;00m prog_bar:\n\u001b[32m     53\u001b[39m     \u001b[38;5;66;03m# plot and save\u001b[39;00m\n\u001b[32m     54\u001b[39m     frame_time_start = time.time()\n\u001b[32m---> \u001b[39m\u001b[32m56\u001b[39m     \u001b[43mplc_cart_ml\u001b[49m\u001b[43m(\u001b[49m\n\u001b[32m     57\u001b[39m \u001b[43m        \u001b[49m\u001b[43mvar\u001b[49m\u001b[43m=\u001b[49m\u001b[43m(\u001b[49m\u001b[43mdata_tensor\u001b[49m\u001b[43m[\u001b[49m\u001b[32;43m0\u001b[39;49m\u001b[43m]\u001b[49m\u001b[43m[\u001b[49m\u001b[32;43m0\u001b[39;49m\u001b[43m]\u001b[49m\u001b[43m.\u001b[49m\u001b[43mcpu\u001b[49m\u001b[43m(\u001b[49m\u001b[43m)\u001b[49m\u001b[43m.\u001b[49m\u001b[43munsqueeze\u001b[49m\u001b[43m(\u001b[49m\u001b[32;43m0\u001b[39;49m\u001b[43m)\u001b[49m\u001b[43m.\u001b[49m\u001b[43mdetach\u001b[49m\u001b[43m(\u001b[49m\u001b[43m)\u001b[49m\u001b[43m.\u001b[49m\u001b[43mnumpy\u001b[49m\u001b[43m(\u001b[49m\u001b[43m)\u001b[49m\u001b[43m)\u001b[49m\u001b[43m,\u001b[49m\u001b[43m \u001b[49m\n\u001b[32m     58\u001b[39m \u001b[43m        \u001b[49m\u001b[38;5;28;43mmin\u001b[39;49m\u001b[43m=\u001b[49m\u001b[43m-\u001b[49m\u001b[32;43m2\u001b[39;49m\u001b[43m,\u001b[49m\n\u001b[32m     59\u001b[39m \u001b[43m        \u001b[49m\u001b[38;5;28;43mmax\u001b[39;49m\u001b[43m=\u001b[49m\u001b[32;43m2\u001b[39;49m\u001b[43m,\u001b[49m\u001b[43m \u001b[49m\n\u001b[32m     60\u001b[39m \u001b[43m        \u001b[49m\u001b[43mrmax\u001b[49m\u001b[43m=\u001b[49m\u001b[32;43m100\u001b[39;49m\u001b[43m,\u001b[49m\u001b[43m \u001b[49m\n\u001b[32m     61\u001b[39m \u001b[43m        \u001b[49m\u001b[43moffset\u001b[49m\u001b[43m=\u001b[49m\u001b[32;43m0\u001b[39;49m\u001b[43m,\u001b[49m\u001b[43m \u001b[49m\n\u001b[32m     62\u001b[39m \u001b[43m        \u001b[49m\u001b[43mname\u001b[49m\u001b[43m=\u001b[49m\u001b[43msave_path\u001b[49m\u001b[43m+\u001b[49m\u001b[33;43mf\u001b[39;49m\u001b[33;43m'\u001b[39;49m\u001b[33;43mpred_rho_\u001b[39;49m\u001b[38;5;132;43;01m{\u001b[39;49;00m\u001b[43mindex\u001b[49m\u001b[38;5;132;43;01m}\u001b[39;49;00m\u001b[33;43m'\u001b[39;49m\u001b[43m,\u001b[49m\u001b[43m \u001b[49m\n\u001b[32m     63\u001b[39m \u001b[43m        \u001b[49m\u001b[43mlabel\u001b[49m\u001b[43m=\u001b[49m\u001b[33;43mr\u001b[39;49m\u001b[33;43m\"\u001b[39;49m\u001b[33;43m$\u001b[39;49m\u001b[33;43m\\\u001b[39;49m\u001b[33;43msigma r \u001b[39;49m\u001b[33;43m{\u001b[39;49m\u001b[33;43m\\\u001b[39;49m\u001b[33;43mrm sin}\u001b[39;49m\u001b[33;43m\\\u001b[39;49m\u001b[33;43mtheta$ at dump \u001b[39;49m\u001b[38;5;132;43;01m%d\u001b[39;49;00m\u001b[33;43m\"\u001b[39;49m\u001b[43m \u001b[49m\u001b[43m%\u001b[49m\u001b[43m \u001b[49m\u001b[43mindex\u001b[49m\u001b[43m,\u001b[49m\n\u001b[32m     64\u001b[39m \u001b[43m    \u001b[49m\u001b[43m)\u001b[49m\n\u001b[32m     66\u001b[39m     \u001b[38;5;66;03m# send data to device\u001b[39;00m\n\u001b[32m     67\u001b[39m     data_tensor = data_tensor.to(device)\n",
      "\u001b[36mFile \u001b[39m\u001b[32m/global/u1/a/arjuna/bh/harm2d/pp.py:6438\u001b[39m, in \u001b[36mplc_cart_ml\u001b[39m\u001b[34m(var, min, max, rmax, offset, name, label)\u001b[39m\n\u001b[32m   6435\u001b[39m \u001b[38;5;28;01mglobal\u001b[39;00m aphi, r, h, ph, print_fieldlines,notebook, do_box, do_save\n\u001b[32m   6436\u001b[39m fig = plt.figure(figsize=(\u001b[32m64\u001b[39m, \u001b[32m32\u001b[39m))\n\u001b[32m-> \u001b[39m\u001b[32m6438\u001b[39m X = \u001b[43mr\u001b[49m*np.sin(h)\n\u001b[32m   6439\u001b[39m Y = r*np.cos(h)\n\u001b[32m   6440\u001b[39m \u001b[38;5;28;01mif\u001b[39;00m(nb==\u001b[32m1\u001b[39m \u001b[38;5;129;01mand\u001b[39;00m do_box==\u001b[32m0\u001b[39m):\n",
      "\u001b[31mNameError\u001b[39m: name 'r' is not defined"
     ]
    },
    {
     "data": {
      "text/plain": [
       "<Figure size 6400x3200 with 0 Axes>"
      ]
     },
     "metadata": {},
     "output_type": "display_data"
    }
   ],
   "source": [
    "import os\n",
    "import yaml\n",
    "from tqdm import tqdm\n",
    "import time\n",
    "\n",
    "os.chdir(os.environ['HOME'] + '/bh/harm2d')\n",
    "\n",
    "from models.cnn.threed_cnn import *\n",
    "\n",
    "# access device, cuda device if accessible\n",
    "device = torch.device('cuda' if torch.cuda.is_available() else 'cpu')\n",
    "# load in model\n",
    "model = B3_CNN().to(device)\n",
    "model_path = os.environ['HOME'] + \"/bh/harm2d/models/cnn/saves/b3_v0.1.0.pth\"\n",
    "print(f'Rendering using model at: {model_path} \\n')\n",
    "\n",
    "# load in trained weights\n",
    "loaded_temp = torch.load(f=model_path)\n",
    "model.load_state_dict(loaded_temp)\n",
    "model.eval()\n",
    "\n",
    "# load in configs\n",
    "with open('train_config.yaml', 'r') as f:\n",
    "    config = yaml.safe_load(f)\n",
    "\n",
    "# change to location of dumps\n",
    "dumps_path = '/pscratch/sd/l/lalakos/ml_data_rc300/reduced'\n",
    "os.chdir(dumps_path)\n",
    "\n",
    "# get first frame to emulate off of\n",
    "first_frame_index = config['start_dump']\n",
    "\n",
    "# process first frame into tensor\n",
    "# rblock_new_ml()\n",
    "# rpar_new(first_frame_index)\n",
    "# # get grid data\n",
    "# rgdump_griddata(dumps_path)\n",
    "# rdump_griddata(dumps_path, first_frame_index)\n",
    "# data_tensor = tensorize_globals(rho=np.log10(rho), ug=np.log10(ug), uu=uu, B=B)\n",
    "\n",
    "# get saved first frame\n",
    "save_path = os.environ['HOME']+'/bh/data.pkl'\n",
    "data_tensor = torch.load(f=save_path)\n",
    "\n",
    "# frame creation configs configs\n",
    "num_frames = 50\n",
    "save_path = os.environ['HOME']+f'/bh/movies/sc_pred_frames/'\n",
    "print(f'Saving {num_frames} at: {save_path}.')\n",
    "\n",
    "# make frames\n",
    "prog_bar = tqdm(range(first_frame_index, first_frame_index+num_frames), total=num_frames)\n",
    "for index in prog_bar:\n",
    "    # plot and save\n",
    "    frame_time_start = time.time()\n",
    "    \n",
    "    plc_cart_ml(\n",
    "        var=(data_tensor[0][0].cpu().unsqueeze(0).detach().numpy()), \n",
    "        min=-2,\n",
    "        max=2, \n",
    "        rmax=100, \n",
    "        offset=0, \n",
    "        name=save_path+f'pred_rho_{index}', \n",
    "        label=r\"$\\sigma r {\\rm sin}\\theta$ at dump %d\" % index,\n",
    "    )\n",
    "    \n",
    "    # send data to device\n",
    "    data_tensor = data_tensor.to(device)\n",
    "    \n",
    "    # predict without tracking gradients\n",
    "    data_tensor = model.inference(data_tensor)\n",
    "\n",
    "    prog_bar.set_description(f'Frame {index} computed and saved in {time.time()-frame_time_start:.4f} s')\n",
    "\n",
    "print(f'{num_frames} frames saved.')"
   ]
  }
 ],
 "metadata": {
  "kernelspec": {
   "display_name": "scenvkernel",
   "language": "python",
   "name": "scenv"
  },
  "language_info": {
   "codemirror_mode": {
    "name": "ipython",
    "version": 3
   },
   "file_extension": ".py",
   "mimetype": "text/x-python",
   "name": "python",
   "nbconvert_exporter": "python",
   "pygments_lexer": "ipython3",
   "version": "3.11.12"
  }
 },
 "nbformat": 4,
 "nbformat_minor": 5
}
