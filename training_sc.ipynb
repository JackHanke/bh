{
 "cells": [
  {
   "cell_type": "markdown",
   "id": "def1b67d",
   "metadata": {},
   "source": [
    "# Training Workbook for Supercomputer Environment\n",
    "\n",
    "## Setup Global Variables and Harm2d Functions"
   ]
  },
  {
   "cell_type": "code",
   "execution_count": 1,
   "id": "0c008e46",
   "metadata": {},
   "outputs": [
    {
     "name": "stdout",
     "output_type": "stream",
     "text": [
      "Running setup scripts...\n",
      "Execution time: 16.938667058944702\n",
      "Imports and setup done.\n"
     ]
    }
   ],
   "source": [
    "## Setup and configs\n",
    "# imports\n",
    "import os\n",
    "import time\n",
    "import matplotlib\n",
    "import matplotlib.pyplot as plt\n",
    "# global variables\n",
    "global notebook\n",
    "global axisym,set_cart,axisym,REF_1,REF_2,REF_3,set_cart,D,print_fieldlines\n",
    "global lowres1,lowres2,lowres3, RAD_M1, RESISTIVE, export_raytracing_GRTRANS, export_raytracing_RAZIEH,r1,r2,r3\n",
    "global r_min, r_max, theta_min, theta_max, phi_min,phi_max, do_griddata, do_box, check_files, kerr_schild\n",
    "\n",
    "global do_train\n",
    "## NOTE toggle do_train to run training on setup\n",
    "do_train = False\n",
    "\n",
    "notebook = 1\n",
    "\n",
    "# total data is shape (10000, 224, 48, 96)\n",
    "harm_directory = os.environ['HOME']+f'/bh/harm2d'\n",
    "os.chdir(harm_directory)\n",
    "\n",
    "print(f'Running setup scripts...')\n",
    "start_time = time.time()\n",
    "%run -i setup.py build_ext --inplace\n",
    "%run -i pp.py build_ext --inplace\n",
    "print(f\"Execution time: {time.time() - start_time}\")\n",
    "\n",
    "# set params\n",
    "lowres1 = 1 # \n",
    "lowres2 = 1 # \n",
    "lowres3 = 1 # \n",
    "r_min, r_max = 1.0, 100.0\n",
    "theta_min, theta_max = 0.0, 9\n",
    "phi_min, phi_max = -1, 9\n",
    "do_box=0\n",
    "set_cart=0\n",
    "set_mpi(0)\n",
    "axisym=1\n",
    "print_fieldlines=0\n",
    "export_raytracing_GRTRANS=0\n",
    "export_raytracing_RAZIEH=0\n",
    "kerr_schild=0\n",
    "DISK_THICKNESS=0.03\n",
    "check_files=1\n",
    "notebook=1\n",
    "interpolate_var=0\n",
    "AMR = 0 # get all data in grid\n",
    "\n",
    "print('Imports and setup done.')\n",
    "%matplotlib inline"
   ]
  },
  {
   "cell_type": "markdown",
   "id": "a7a2337e-7d37-4fc1-9483-6db60e42f615",
   "metadata": {},
   "source": [
    "## Visualization"
   ]
  },
  {
   "cell_type": "code",
   "execution_count": 6,
   "id": "5a256c43",
   "metadata": {},
   "outputs": [
    {
     "name": "stdout",
     "output_type": "stream",
     "text": [
      "Rendering using model at: /global/homes/a/arjuna/bh/harm2d/models/cnn/saves/b3_v0.0.0.pth \n",
      "\n",
      "Saving 50 at: /global/homes/a/arjuna/bh/movies/sc_pred_frames/.\n"
     ]
    },
    {
     "name": "stderr",
     "output_type": "stream",
     "text": [
      "Frame 3049 computed and saved in 1.8672 s: 100%|██████████| 50/50 [01:35<00:00,  1.91s/it]"
     ]
    },
    {
     "name": "stdout",
     "output_type": "stream",
     "text": [
      "50 frames saved.\n"
     ]
    },
    {
     "name": "stderr",
     "output_type": "stream",
     "text": [
      "\n"
     ]
    }
   ],
   "source": [
    "os.chdir(os.environ['HOME'] + '/bh/harm2d')\n",
    "\n",
    "import os\n",
    "import yaml\n",
    "from models.cnn.cnn import *\n",
    "\n",
    "# access device, cuda device if accessible\n",
    "device = torch.device('cuda' if torch.cuda.is_available() else 'cpu')\n",
    "# load in model\n",
    "model = CNN_DEPTH().to(device)\n",
    "model_path = os.environ['HOME'] + \"/bh/harm2d/models/cnn/saves/b3_v0.0.0.pth\"\n",
    "print(f'Rendering using model at: {model_path} \\n')\n",
    "\n",
    "# load in trained weights\n",
    "loaded_temp = torch.load(f=model_path)\n",
    "model.load_state_dict(loaded_temp)\n",
    "model.eval()\n",
    "\n",
    "# load in configs\n",
    "with open('train_config.yaml', 'r') as f:\n",
    "    config = yaml.safe_load(f)\n",
    "\n",
    "# change to location of dumps\n",
    "dumps_path = '/pscratch/sd/l/lalakos/ml_data_rc300/reduced'\n",
    "os.chdir(dumps_path)\n",
    "\n",
    "# get first frame to emulate off of\n",
    "first_frame_index = config['start_dump']\n",
    "\n",
    "# process first frame into tensor\n",
    "rblock_new_ml()\n",
    "rpar_new(first_frame_index)\n",
    "# get grid data\n",
    "rgdump_griddata(dumps_path)\n",
    "rdump_griddata(dumps_path, first_frame_index)\n",
    "data_tensor = tensorize_globals(rho=np.log10(rho), ug=np.log10(ug), uu=uu, B=B)\n",
    "\n",
    "# frame creation configs configs\n",
    "num_frames = 50\n",
    "save_path = os.environ['HOME']+f'/bh/movies/sc_pred_frames/'\n",
    "print(f'Saving {num_frames} at: {save_path}.')\n",
    "\n",
    "# make frames\n",
    "prog_bar = tqdm(range(first_frame_index, first_frame_index+num_frames), total=num_frames)\n",
    "for index in prog_bar:\n",
    "    # plot and save\n",
    "    frame_time_start = time.time()\n",
    "    \n",
    "    plc_cart_ml(\n",
    "        var=(data_tensor[0][0].cpu().unsqueeze(0).detach().numpy()), \n",
    "        min=-2,\n",
    "        max=2, \n",
    "        rmax=100, \n",
    "        offset=0, \n",
    "        name=save_path+f'pred_rho_{index}', \n",
    "        label=r\"$\\sigma r {\\rm sin}\\theta$ at dump %d\" % index,\n",
    "    )\n",
    "    \n",
    "    # send data to device\n",
    "    data_tensor = data_tensor.to(device)\n",
    "    \n",
    "    # predict without tracking gradients\n",
    "    data_tensor = model.inference(data_tensor)\n",
    "\n",
    "    prog_bar.set_description(f'Frame {index} computed and saved in {time.time()-frame_time_start:.4f} s')\n",
    "\n",
    "print(f'{num_frames} frames saved.')"
   ]
  }
 ],
 "metadata": {
  "kernelspec": {
   "display_name": "scenvkernel",
   "language": "python",
   "name": "scenv"
  },
  "language_info": {
   "codemirror_mode": {
    "name": "ipython",
    "version": 3
   },
   "file_extension": ".py",
   "mimetype": "text/x-python",
   "name": "python",
   "nbconvert_exporter": "python",
   "pygments_lexer": "ipython3",
   "version": "3.11.12"
  }
 },
 "nbformat": 4,
 "nbformat_minor": 5
}
