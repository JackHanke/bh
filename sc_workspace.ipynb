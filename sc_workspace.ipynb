{
 "cells": [
  {
   "cell_type": "code",
   "execution_count": 1,
   "id": "f418c083-2455-4f0e-a523-05fe8c61c04d",
   "metadata": {
    "editable": true,
    "slideshow": {
     "slide_type": ""
    },
    "tags": []
   },
   "outputs": [
    {
     "name": "stdout",
     "output_type": "stream",
     "text": [
      "Imports done.\n"
     ]
    }
   ],
   "source": [
    "import os\n",
    "global notebook\n",
    "notebook = 1\n",
    "\n",
    "dir = '/global/u1/j/jackh/bh/harm2d'\n",
    "os.chdir(dir)\n",
    "\n",
    "%run -i setup.py build_ext --inplace\n",
    "%run -i pp.py build_ext --inplace\n",
    "%matplotlib inline\n",
    "import matplotlib\n",
    "print('Imports done.')"
   ]
  },
  {
   "cell_type": "code",
   "execution_count": 2,
   "id": "13e5aa01-1f95-441b-9962-982e3d5af513",
   "metadata": {},
   "outputs": [
    {
     "name": "stdout",
     "output_type": "stream",
     "text": [
      "r-shape= (1, 224, 48, 96)\n",
      "0.8326532906396308\n",
      "what is the time? 200004.83007677848\n"
     ]
    }
   ],
   "source": [
    "global notebook, axisym,set_cart,axisym,REF_1,REF_2,REF_3,set_cart,D,print_fieldlines\n",
    "global lowres1,lowres2,lowres3, RAD_M1, RESISTIVE, export_raytracing_GRTRANS, export_raytracing_RAZIEH,r1,r2,r3\n",
    "global r_min, r_max, theta_min, theta_max, phi_min,phi_max, do_griddata, do_box, check_files, kerr_schild\n",
    "\n",
    "dir = '/pscratch/sd/l/lalakos/ml_data_rc300/reduced'\n",
    "os.chdir(dir)\n",
    "\n",
    "# set params\n",
    "lowres1 = 1\n",
    "lowres2 = 1\n",
    "lowres3 = 1\n",
    "\n",
    "do_box=0\n",
    "r_min=1.0\n",
    "r_max=100.0\n",
    "theta_min=0.0\n",
    "theta_max=9\n",
    "phi_min=-1\n",
    "phi_max=9\n",
    "axisym=1\n",
    "print_fieldlines=0\n",
    "export_raytracing_GRTRANS=0\n",
    "export_raytracing_RAZIEH=0\n",
    "kerr_schild=0\n",
    "DISK_THICKNESS=0.03\n",
    "set_cart=0\n",
    "set_mpi(0)\n",
    "check_files=1\n",
    "notebook=1\n",
    "\n",
    "interpolate_var=0\n",
    "\n",
    "AMR = 0 # get all data in grid\n",
    "\n",
    "D = 2000 # name of the dump\n",
    "\n",
    "rblock_new(D)\n",
    "rpar_new(D)\n",
    "\n",
    "if AMR:\n",
    "    rgdump_new(dir)\n",
    "    rdump_new(dir,D)\n",
    "else:\n",
    "    rgdump_griddata(dir)\n",
    "    rdump_griddata(dir,D)\n",
    "\n",
    "print(\"r-shape=\",r.shape)\n",
    "rhor = 1+np.sqrt(1-a**2)\n",
    "print(r[0,0,0,0]/rhor)\n",
    "print('what is the time?', t)"
   ]
  },
  {
   "cell_type": "code",
   "execution_count": 5,
   "id": "149d3125-d0b6-4b2a-8aab-e8efc25ae137",
   "metadata": {},
   "outputs": [
    {
     "name": "stderr",
     "output_type": "stream",
     "text": [
      "Dump 4 processed.: 100%|██████████| 5/5 [00:35<00:00,  7.03s/it]\n"
     ]
    }
   ],
   "source": [
    "import torch\n",
    "from tqdm import tqdm\n",
    "\n",
    "# read in data, pickle final tensor\n",
    "\n",
    "data = []\n",
    "dumps_path = '/pscratch/sd/l/lalakos/ml_data_rc300/reduced'\n",
    "# dumps = 10000\n",
    "dumps = 5\n",
    "prog_bar = tqdm(range(dumps), total=dumps)\n",
    "for dump in prog_bar:\n",
    "    #     \n",
    "    rblock_new(dump)\n",
    "    rpar_new(dump)\n",
    "    rgdump_griddata(dumps_path)\n",
    "    rdump_griddata(dumps_path,dump)\n",
    "\n",
    "    rho_tensor = torch.tensor(rho)[0].unsqueeze(0)\n",
    "    ug_tensor = torch.tensor(ug)[0].unsqueeze(0)\n",
    "    uu_tensor = torch.tensor(uu[1:4]).squeeze(1)\n",
    "    B_tensor = torch.tensor(B[1:4]).squeeze(1)\n",
    "    data_tensor = torch.cat((rho_tensor, ug_tensor, uu_tensor, B_tensor), dim=0)\n",
    "\n",
    "    data.append(data_tensor.unsqueeze(0))\n",
    "\n",
    "    prog_bar.set_description(f'Dump {dump} processed.')\n",
    "\n",
    "data = torch.cat(data, dim=0)\n",
    "\n",
    "save_path = os.environ['HOME']+'/bh/data.pkl'\n",
    "torch.save(data, save_path)\n",
    "print(f'Tensorized and saved {dumps} dumps at: {save_path})\n",
    "\n",
    "\n"
   ]
  },
  {
   "cell_type": "code",
   "execution_count": 8,
   "id": "50ab8466-e91b-406f-9a0d-b948d34e735d",
   "metadata": {},
   "outputs": [
    {
     "name": "stdout",
     "output_type": "stream",
     "text": [
      "torch.Size([5, 8, 224, 48, 96])\n"
     ]
    }
   ],
   "source": [
    "# load in saved tensor\n",
    "data = torch.load(f=save_path)\n",
    "print(data.shape)"
   ]
  },
  {
   "cell_type": "code",
   "execution_count": null,
   "id": "b82b5e59-cd7e-41a4-b703-a6ed9de5b592",
   "metadata": {},
   "outputs": [],
   "source": [
    "# do_save = 0\n",
    "plc_cart((rho), -2,2, 100, 0, dir+'rho%d' %D, r\"$\\sigma r {\\rm sin}\\theta$ at %d $r_g/c$\" % t)"
   ]
  }
 ],
 "metadata": {
  "kernelspec": {
   "display_name": "scenvkernel",
   "language": "python",
   "name": "scenv"
  },
  "language_info": {
   "codemirror_mode": {
    "name": "ipython",
    "version": 3
   },
   "file_extension": ".py",
   "mimetype": "text/x-python",
   "name": "python",
   "nbconvert_exporter": "python",
   "pygments_lexer": "ipython3",
   "version": "3.11.12"
  }
 },
 "nbformat": 4,
 "nbformat_minor": 5
}
