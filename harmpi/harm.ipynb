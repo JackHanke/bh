{
 "cells": [
  {
   "cell_type": "code",
   "execution_count": 1,
   "metadata": {},
   "outputs": [],
   "source": [
    "%run -i harm_script.py"
   ]
  },
  {
   "cell_type": "code",
   "execution_count": 2,
   "metadata": {},
   "outputs": [],
   "source": [
    "rg(\"gdump\")"
   ]
  },
  {
   "cell_type": "code",
   "execution_count": 3,
   "metadata": {},
   "outputs": [],
   "source": [
    "rd(\"dump000\")"
   ]
  },
  {
   "cell_type": "code",
   "execution_count": null,
   "metadata": {},
   "outputs": [],
   "source": [
    "print(t)"
   ]
  },
  {
   "cell_type": "code",
   "execution_count": null,
   "metadata": {},
   "outputs": [],
   "source": [
    "plt.loglog(r[:,ny//2,0], rho[:,ny//2,0])\n",
    "plt.xlabel(\"r\")\n",
    "plt.ylabel(\"rho\")"
   ]
  },
  {
   "cell_type": "code",
   "execution_count": null,
   "metadata": {},
   "outputs": [],
   "source": [
    "plco(np.log10(rho),xy=1,xmax=100,ymax=50,cb=True, isfilled=1, nc=100)\n",
    "# phi goes into the plane of the image"
   ]
  },
  {
   "cell_type": "code",
   "execution_count": null,
   "metadata": {},
   "outputs": [],
   "source": [
    "!ls dumps"
   ]
  },
  {
   "cell_type": "code",
   "execution_count": null,
   "metadata": {},
   "outputs": [],
   "source": [
    "import numpy as np\n",
    "for i in np.arange(2):\n",
    "    print(i)\n",
    "    rd(\"dump%03d\" % i)\n",
    "    plco(np.log10(rho),xy=1,xmax=100,ymax=50,cb=True,isfilled=1,nc=100)\n",
    "    plt.savefig(\"frame%03d.png\" % i, dpi=300)\n",
    "\n",
    "# for i in np.arange():\n",
    "#     rd(f\"dump00{i}\")\n",
    "#     plco(np.log10(rho),xy=1,xmax=100,ymax=50,cb=True, isfilled=1, nc=100)\n",
    "#     plt.savefig(f\"frame i\")"
   ]
  },
  {
   "cell_type": "code",
   "execution_count": null,
   "metadata": {},
   "outputs": [],
   "source": [
    "!ls *.png"
   ]
  },
  {
   "cell_type": "code",
   "execution_count": null,
   "metadata": {},
   "outputs": [],
   "source": [
    "!ffmpeg -fflags +genpts -r 10 -pattern_type glob -i \"frame*.png\" -vcodec mpeg4 -qmax 5 movie.mp4"
   ]
  },
  {
   "cell_type": "code",
   "execution_count": 20,
   "metadata": {},
   "outputs": [
    {
     "data": {
      "text/plain": [
       "dict_keys(['__name__', '__doc__', '__package__', '__loader__', '__spec__', '__builtin__', '__builtins__', '_ih', '_oh', '_dh', 'In', 'Out', 'get_ipython', 'exit', 'quit', 'open', '_', '__', '___', '__vsc_ipynb_file__', '_i', '_ii', '_iii', '_i1', '__file__', 'matplotlib', 'plt', 'mpl', 'sys', 'rc', 'Ellipse', 'interp1d', 'GridSpec', 'cm', 'ticker', 'sin', 'cos', 'tan', 'pi', 'axes', 'fix_cross_in_labels', 'pdb', 'np', 'glob', 'os', 'griddata', 'ma', 'colors', 'mathify_axes_ticks', 'convert_to_single_file', 'ellk', 'ek', 'lk', 'Risco', 'Ebind', 'etaNT', 'Ebindisco', 'mkmov_simple', 'convert_wrapper', 'mkmov_wrapper', 'mkmov', 'mkfrmsimple', 'mkvertcolorbar', 'Qmri', 'goodlabs', 'iofr', 'rd', 'rg', 'rg2', 'read_file', 'read_header', 'read_body', 'data_assign', 'gdump_assign', 'gdump2_assign', 'dump_assign', 'rdump_assign', 'fdump_assign', 'mdot', 'psicalc', 'myfloat', 'get_fracphi', 'plco', 'plc', 'faraday', 'Tcalcud', 'aux', 'bhole', 'testfail', 'get_sorted_file_list', 'fFdd', 'delta', 'fTudEM', 'fTudMA', 'fTud', 'fRud', 'odot', 'amax', 'amin', '_i2', 't', 'N1', 'N2', 'N3', 'nx', 'ny', 'nz', 'N1G', 'N2G', 'N3G', 'startx1', 'startx2', 'startx3', '_dx1', '_dx2', '_dx3', 'tf', 'a', 'gam', 'Rin', 'Rout', 'hslope', 'R0', 'NPR', 'DOKTOT', 'fractheta', 'fracphi', 'rbr', 'npow2', 'cpow2', 'x10', 'x20', 'BL', 'ti', 'tj', 'tk', 'x1', 'x2', 'x3', 'r', 'h', 'ph', 'gv3', 'gn3', 'gcov', 'gcon', 'guu', 'gdd', 'gdet', 'drdx', 'dxdxp', '_i3', 'rho', 'ug', 'pg', 'vu', 'B', 'ktot', 'divb', 'uu', 'ud', 'bu', 'bd', 'bsq', 'v1m', 'v1p', 'v2m', 'v2p', 'rhor', 'alpha', '_i4', 'uh', '_i5', '_i6', '_i7', '_7', '_i8', 'uhn', '_i9', '_i10', '_i11', '_i12', '_i13', '_i14', 're', 'filename', '_i15', '_15', '_i16', 'num_dumps', '_i17', '_i18', '_i19', '_19', '_i20'])"
      ]
     },
     "execution_count": 20,
     "metadata": {},
     "output_type": "execute_result"
    }
   ],
   "source": [
    "# gcov: \n",
    "# rhor: event horizon radius\n",
    "# phi, theta, \n",
    "# B is magnetic fields\n",
    "\n",
    "# internal coordinates??? theta on y, log r on x\n",
    "# plco(np.log10(rho),xy=0,cb=True,isfilled=1,nc=100)\n",
    "\n",
    "# rho, ug, uu[1:4], B[1:4]\n",
    "# rd means read dump\n",
    "\n",
    "globals().keys()"
   ]
  },
  {
   "cell_type": "code",
   "execution_count": null,
   "metadata": {},
   "outputs": [
    {
     "name": "stdout",
     "output_type": "stream",
     "text": [
      "Number of Dumps: 147\n",
      "Shape of data tensor: torch.Size([8, 128, 128])\n",
      "(128, 128, 1)\n"
     ]
    }
   ],
   "source": [
    "# TODO we need a function that loops over all dumps in the file system\n",
    "import os\n",
    "import re\n",
    "num_dumps = 0\n",
    "for filename in os.listdir('dumps'):\n",
    "    if re.match(r'^dump\\d+$', filename):\n",
    "        num_dumps += 1\n",
    "print(f'Number of Dumps: {num_dumps}')\n",
    "\n",
    "# TODO add some shit to the gitignore\n",
    "\n",
    "# TODO we need a function to translate a dump and the variables it reads into NN friendly tensors\n",
    "import torch\n",
    "def make_data_tensor():\n",
    "    # NOTE doesn't include time\n",
    "    rho_tensor = torch.tensor(rho).squeeze(2).unsqueeze(0)\n",
    "    ug_tensor = torch.tensor(ug).squeeze(2).unsqueeze(0)\n",
    "    uu_tensor = torch.tensor(uu[1:4]).squeeze(3)\n",
    "    B_tensor = torch.tensor(B[1:4]).squeeze(3)\n",
    "    data_tensor = torch.cat((rho_tensor, ug_tensor, uu_tensor, B_tensor), dim=0)\n",
    "    return data_tensor\n",
    "\n",
    "data_tensor = make_data_tensor()\n",
    "\n",
    "# TODO write the NN\n",
    "\n",
    "print(f'Shape of data tensor: {data_tensor.shape}')\n",
    "\n",
    "class FFNN(nn.module):\n",
    "    def __init__(self, input_dim):\n",
    "        super.__init__()\n",
    "        self.layer1 = nn.Linear(input_dim, 64)\n",
    "        self.layer2 = nn.Linear(64, 64)\n",
    "        self.layer3 = nn.Linear(64, input_dim)\n",
    "        self.relu = nn.ReLU()\n",
    "\n",
    "    def forward(self, x):\n",
    "        x = torch.flatten(x)\n",
    "        x = self.layer1(x)\n",
    "        x = self.relu(x)\n",
    "        x = self.layer2(x)\n",
    "        x = self.relu(x)\n",
    "        x = self.layer3(x)\n",
    "        x = self.relu(x)\n",
    "        x = torch.reshape(x, (8,128,128))\n",
    "        return x\n",
    "\n",
    "net = FFNN(input_dim = 8*128*128)\n",
    "loss = torch.nn.MSELoss()\n",
    "optim = torch.optim.Adam()\n",
    "\n",
    "# TODO make dataset\n",
    "\n",
    "# TODO make dataloaders\n",
    "train_dataloader = \n",
    "valid_dataloader = \n",
    "test_dataloader = \n",
    "\n",
    "# TODO training script\n",
    "\n",
    "epochs = 2\n",
    "for epoch in range(epochs):\n",
    "    for batch_num, batch in enumerate(train_dataloader):\n",
    "        pass\n",
    "\n",
    "# TODO create side by side movie for prediction\n",
    "\n",
    "\n",
    "# TODO \n",
    "\n",
    "\n",
    "\n",
    "\n",
    "\n"
   ]
  }
 ],
 "metadata": {
  "kernelspec": {
   "display_name": "msai339",
   "language": "python",
   "name": "python3"
  },
  "language_info": {
   "codemirror_mode": {
    "name": "ipython",
    "version": 3
   },
   "file_extension": ".py",
   "mimetype": "text/x-python",
   "name": "python",
   "nbconvert_exporter": "python",
   "pygments_lexer": "ipython3",
   "version": "3.10.14"
  }
 },
 "nbformat": 4,
 "nbformat_minor": 2
}
