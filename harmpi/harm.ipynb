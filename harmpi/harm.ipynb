{
 "cells": [
  {
   "cell_type": "code",
   "execution_count": 6,
   "metadata": {},
   "outputs": [],
   "source": [
    "%run -i harm_script.py"
   ]
  },
  {
   "cell_type": "code",
   "execution_count": 7,
   "metadata": {},
   "outputs": [],
   "source": [
    "rg(\"gdump\")"
   ]
  },
  {
   "cell_type": "code",
   "execution_count": 8,
   "metadata": {},
   "outputs": [],
   "source": [
    "rd(\"dump000\")"
   ]
  },
  {
   "cell_type": "code",
   "execution_count": null,
   "metadata": {},
   "outputs": [],
   "source": [
    "print(t)"
   ]
  },
  {
   "cell_type": "code",
   "execution_count": null,
   "metadata": {},
   "outputs": [],
   "source": [
    "plt.loglog(r[:,ny//2,0], rho[:,ny//2,0])\n",
    "plt.xlabel(\"r\")\n",
    "plt.ylabel(\"rho\")"
   ]
  },
  {
   "cell_type": "code",
   "execution_count": null,
   "metadata": {},
   "outputs": [],
   "source": [
    "plco(np.log10(rho),xy=1,xmax=100,ymax=50,cb=True, isfilled=1, nc=100)\n",
    "# phi goes into the plane of the image"
   ]
  },
  {
   "cell_type": "code",
   "execution_count": null,
   "metadata": {},
   "outputs": [],
   "source": [
    "!ls dumps"
   ]
  },
  {
   "cell_type": "code",
   "execution_count": null,
   "metadata": {},
   "outputs": [],
   "source": [
    "import numpy as np\n",
    "for i in np.arange(2):\n",
    "    print(i)\n",
    "    rd(\"dump%03d\" % i)\n",
    "    plco(np.log10(rho),xy=1,xmax=100,ymax=50,cb=True,isfilled=1,nc=100)\n",
    "    plt.savefig(\"frame%03d.png\" % i, dpi=300)\n",
    "\n",
    "# for i in np.arange():\n",
    "#     rd(f\"dump00{i}\")\n",
    "#     plco(np.log10(rho),xy=1,xmax=100,ymax=50,cb=True, isfilled=1, nc=100)\n",
    "#     plt.savefig(f\"frame i\")"
   ]
  },
  {
   "cell_type": "code",
   "execution_count": null,
   "metadata": {},
   "outputs": [],
   "source": [
    "!ls *.png"
   ]
  },
  {
   "cell_type": "code",
   "execution_count": null,
   "metadata": {},
   "outputs": [],
   "source": [
    "!ffmpeg -fflags +genpts -r 10 -pattern_type glob -i \"frame*.png\" -vcodec mpeg4 -qmax 5 movie.mp4"
   ]
  },
  {
   "cell_type": "code",
   "execution_count": 20,
   "metadata": {},
   "outputs": [
    {
     "data": {
      "text/plain": [
       "dict_keys(['__name__', '__doc__', '__package__', '__loader__', '__spec__', '__builtin__', '__builtins__', '_ih', '_oh', '_dh', 'In', 'Out', 'get_ipython', 'exit', 'quit', 'open', '_', '__', '___', '__vsc_ipynb_file__', '_i', '_ii', '_iii', '_i1', '__file__', 'matplotlib', 'plt', 'mpl', 'sys', 'rc', 'Ellipse', 'interp1d', 'GridSpec', 'cm', 'ticker', 'sin', 'cos', 'tan', 'pi', 'axes', 'fix_cross_in_labels', 'pdb', 'np', 'glob', 'os', 'griddata', 'ma', 'colors', 'mathify_axes_ticks', 'convert_to_single_file', 'ellk', 'ek', 'lk', 'Risco', 'Ebind', 'etaNT', 'Ebindisco', 'mkmov_simple', 'convert_wrapper', 'mkmov_wrapper', 'mkmov', 'mkfrmsimple', 'mkvertcolorbar', 'Qmri', 'goodlabs', 'iofr', 'rd', 'rg', 'rg2', 'read_file', 'read_header', 'read_body', 'data_assign', 'gdump_assign', 'gdump2_assign', 'dump_assign', 'rdump_assign', 'fdump_assign', 'mdot', 'psicalc', 'myfloat', 'get_fracphi', 'plco', 'plc', 'faraday', 'Tcalcud', 'aux', 'bhole', 'testfail', 'get_sorted_file_list', 'fFdd', 'delta', 'fTudEM', 'fTudMA', 'fTud', 'fRud', 'odot', 'amax', 'amin', '_i2', 't', 'N1', 'N2', 'N3', 'nx', 'ny', 'nz', 'N1G', 'N2G', 'N3G', 'startx1', 'startx2', 'startx3', '_dx1', '_dx2', '_dx3', 'tf', 'a', 'gam', 'Rin', 'Rout', 'hslope', 'R0', 'NPR', 'DOKTOT', 'fractheta', 'fracphi', 'rbr', 'npow2', 'cpow2', 'x10', 'x20', 'BL', 'ti', 'tj', 'tk', 'x1', 'x2', 'x3', 'r', 'h', 'ph', 'gv3', 'gn3', 'gcov', 'gcon', 'guu', 'gdd', 'gdet', 'drdx', 'dxdxp', '_i3', 'rho', 'ug', 'pg', 'vu', 'B', 'ktot', 'divb', 'uu', 'ud', 'bu', 'bd', 'bsq', 'v1m', 'v1p', 'v2m', 'v2p', 'rhor', 'alpha', '_i4', 'uh', '_i5', '_i6', '_i7', '_7', '_i8', 'uhn', '_i9', '_i10', '_i11', '_i12', '_i13', '_i14', 're', 'filename', '_i15', '_15', '_i16', 'num_dumps', '_i17', '_i18', '_i19', '_19', '_i20'])"
      ]
     },
     "execution_count": 20,
     "metadata": {},
     "output_type": "execute_result"
    }
   ],
   "source": [
    "# gcov: \n",
    "# rhor: event horizon radius\n",
    "# phi, theta, \n",
    "# B is magnetic fields\n",
    "\n",
    "# internal coordinates??? theta on y, log r on x\n",
    "# plco(np.log10(rho),xy=0,cb=True,isfilled=1,nc=100)\n",
    "\n",
    "# rho, ug, uu[1:4], B[1:4]\n",
    "# rd means read dump\n",
    "\n",
    "globals().keys()"
   ]
  },
  {
   "cell_type": "code",
   "execution_count": null,
   "metadata": {},
   "outputs": [
    {
     "name": "stdout",
     "output_type": "stream",
     "text": [
      "['dump141', 'dump179', 'dump146', 'dump170', 'dump148', 'dump177', 'dump123', 'dump124', 'dump112', 'dump115', 'dump149', 'dump176', 'dump171', 'dump178', 'dump147', 'dump140', 'dump114', 'dump113', 'dump125', 'dump122', 'dump050', 'dump068', 'dump057', 'dump061', 'dump095', 'dump059', 'dump092', 'dump066', 'dump032', 'dump035', 'dump003', 'dump004', 'dump058', 'dump067', 'dump093', 'dump094', 'dump060', 'dump069', 'dump056', 'dump051', 'dump005', 'dump002', 'dump034', 'dump033', 'dump011', 'dump029', 'dump016', 'dump020', 'dump018', 'dump027', 'dump073', 'dump087', 'dump080', 'dump074', 'dump042', 'dump089', 'dump045', 'dump019', 'dump026', 'dump021', 'dump028', 'dump017', 'dump010', 'dump044', 'dump043', 'dump088', 'dump075', 'dump081', 'dump086', 'dump072', 'dump100', 'dump138', 'dump107', 'dump131', 'dump109', 'dump136', 'dump162', 'dump165', 'dump153', 'dump154', 'dump108', 'dump137', 'dump130', 'dump139', 'dump106', 'dump101', 'dump155', 'dump152', 'dump164', 'dump163', 'dump127', 'dump118', 'dump120', 'dump116', 'dump129', 'dump111', 'dump145', 'dump142', 'dump180', 'dump174', 'dump173', 'dump110', 'dump117', 'dump128', 'dump121', 'dump126', 'dump119', 'dump172', 'dump175', 'dump143', 'dump144', 'dump036', 'dump009', 'dump031', 'dump007', 'dump038', 'dump000', 'dump054', 'dump098', 'dump053', 'dump091', 'dump065', 'dump062', 'dump096', 'dump001', 'dump006', 'dump039', 'dump030', 'dump037', 'dump008', 'dump097', 'dump063', 'dump064', 'dump090', 'dump099', 'dump052', 'dump055', 'dump083', 'dump077', 'dump048', 'dump070', 'dump084', 'dump046', 'dump079', 'dump041', 'dump015', 'dump012', 'dump024', 'dump023', 'dump040', 'dump047', 'dump078', 'dump085', 'dump071', 'dump076', 'dump082', 'dump049', 'dump022', 'dump025', 'dump013', 'dump014', 'dump166', 'dump159', 'dump161', 'dump157', 'dump168', 'dump150', 'dump104', 'dump103', 'dump135', 'dump132', 'dump151', 'dump156', 'dump169', 'dump160', 'dump167', 'dump158', 'dump133', 'dump134', 'dump102', 'dump105']\n",
      "['dump000', 'dump001', 'dump002', 'dump003', 'dump004', 'dump005', 'dump006', 'dump007', 'dump008', 'dump009', 'dump010', 'dump011', 'dump012', 'dump013', 'dump014', 'dump015', 'dump016', 'dump017', 'dump018', 'dump019', 'dump020', 'dump021', 'dump022', 'dump023', 'dump024', 'dump025', 'dump026', 'dump027', 'dump028', 'dump029', 'dump030', 'dump031', 'dump032', 'dump033', 'dump034', 'dump035', 'dump036', 'dump037', 'dump038', 'dump039', 'dump040', 'dump041', 'dump042', 'dump043', 'dump044', 'dump045', 'dump046', 'dump047', 'dump048', 'dump049', 'dump050', 'dump051', 'dump052', 'dump053', 'dump054', 'dump055', 'dump056', 'dump057', 'dump058', 'dump059', 'dump060', 'dump061', 'dump062', 'dump063', 'dump064', 'dump065', 'dump066', 'dump067', 'dump068', 'dump069', 'dump070', 'dump071', 'dump072', 'dump073', 'dump074', 'dump075', 'dump076', 'dump077', 'dump078', 'dump079', 'dump080', 'dump081', 'dump082', 'dump083', 'dump084', 'dump085', 'dump086', 'dump087', 'dump088', 'dump089', 'dump090', 'dump091', 'dump092', 'dump093', 'dump094', 'dump095', 'dump096', 'dump097', 'dump098', 'dump099', 'dump100', 'dump101', 'dump102', 'dump103', 'dump104', 'dump105', 'dump106', 'dump107', 'dump108', 'dump109', 'dump110', 'dump111', 'dump112', 'dump113', 'dump114', 'dump115', 'dump116', 'dump117', 'dump118', 'dump119', 'dump120', 'dump121', 'dump122', 'dump123', 'dump124', 'dump125', 'dump126', 'dump127', 'dump128', 'dump129', 'dump130', 'dump131', 'dump132', 'dump133', 'dump134', 'dump135', 'dump136', 'dump137', 'dump138', 'dump139', 'dump140', 'dump141', 'dump142', 'dump143', 'dump144', 'dump145', 'dump146', 'dump147', 'dump148', 'dump149', 'dump150', 'dump151', 'dump152', 'dump153', 'dump154', 'dump155', 'dump156', 'dump157', 'dump158', 'dump159', 'dump160', 'dump161', 'dump162', 'dump163', 'dump164', 'dump165', 'dump166', 'dump167', 'dump168', 'dump169', 'dump170', 'dump171', 'dump172', 'dump173', 'dump174', 'dump175', 'dump176', 'dump177', 'dump178', 'dump179', 'dump180']\n",
      "Number of Dumps: 181\n"
     ]
    }
   ],
   "source": [
    "# TODO we need a function that loops over all dumps in the file system\n",
    "import os\n",
    "import re\n",
    "dumps = []\n",
    "for filename in os.listdir('dumps'):\n",
    "    if re.match(r'^dump\\d+$', filename):\n",
    "        dumps.append(filename)\n",
    "dumps.sort()\n",
    "num_dumps = len(dumps)\n",
    "print(f'Number of Dumps: {num_dumps}')\n"
   ]
  },
  {
   "cell_type": "code",
   "execution_count": 22,
   "metadata": {},
   "outputs": [
    {
     "name": "stdout",
     "output_type": "stream",
     "text": [
      "Shape of the dataset: torch.Size([181, 8, 128, 128])\n"
     ]
    }
   ],
   "source": [
    "# TODO we need a function to translate a dump and the variables it reads into NN friendly tensors\n",
    "import torch\n",
    "\n",
    "data_tensor = make_data_tensor()\n",
    "\n",
    "# TODO make dataset\n",
    "data = []\n",
    "for dump in dumps:\n",
    "    rd(dump)\n",
    "\n",
    "    rho_tensor = torch.tensor(rho).squeeze(2).unsqueeze(0)\n",
    "    ug_tensor = torch.tensor(ug).squeeze(2).unsqueeze(0)\n",
    "    uu_tensor = torch.tensor(uu[1:4]).squeeze(3)\n",
    "    B_tensor = torch.tensor(B[1:4]).squeeze(3)\n",
    "    \n",
    "    data_tensor = torch.cat((rho_tensor, ug_tensor, uu_tensor, B_tensor), dim=0)\n",
    "    data.append(data_tensor.unsqueeze(0))\n",
    "\n",
    "data = torch.cat(data, dim=0)\n",
    "print(f'Shape of the dataset: {data.shape}')"
   ]
  },
  {
   "cell_type": "code",
   "execution_count": null,
   "metadata": {},
   "outputs": [],
   "source": [
    "from torch.utils.data import Dataset, DataLoader, random_split\n",
    "BATCH_SIZE = 8\n",
    "\n",
    "class BHDataset(Dataset):\n",
    "    def __init__(self, dataset):\n",
    "        self.dataset = dataset\n",
    "\n",
    "    def __len__(self):\n",
    "        return len(self.dataset)-1\n",
    "\n",
    "    def __getitem__(self, idx):\n",
    "        data = self.dataset[idx]\n",
    "        label = self.dataset[idx+1]\n",
    "        return data, label\n",
    "\n",
    "loaded_data = BHDataset(data)\n",
    "train_size = int(0.7 * len(loaded_data))\n",
    "val_size = int(0.15 * len(loaded_data))\n",
    "test_size = len(loaded_data) - train_size - val_size\n",
    "train_dataset, val_dataset, test_dataset = random_split(loaded_data, [train_size, val_size, test_size])\n",
    "\n",
    "# TODO make dataloaders\n",
    "# Create DataLoaders for each split\n",
    "train_loader = DataLoader(train_dataset, batch_size=BATCH_SIZE, shuffle=True)\n",
    "val_loader = DataLoader(val_dataset, batch_size=BATCH_SIZE, shuffle=False)\n",
    "test_loader = DataLoader(test_dataset, batch_size=BATCH_SIZE, shuffle=False)\n"
   ]
  },
  {
   "cell_type": "code",
   "execution_count": null,
   "metadata": {},
   "outputs": [],
   "source": [
    "\n",
    "# TODO write the NN\n",
    "class FFNN(nn.module):\n",
    "    def __init__(self, input_dim):\n",
    "        super.__init__()\n",
    "        self.layer1 = nn.Linear(input_dim, 64)\n",
    "        self.layer2 = nn.Linear(64, 64)\n",
    "        self.layer3 = nn.Linear(64, input_dim)\n",
    "        self.relu = nn.ReLU()\n",
    "\n",
    "    def forward(self, x):\n",
    "        x = torch.flatten(x)\n",
    "        x = self.layer1(x)\n",
    "        x = self.relu(x)\n",
    "        x = self.layer2(x)\n",
    "        x = self.relu(x)\n",
    "        x = self.layer3(x)\n",
    "        x = self.relu(x)\n",
    "        x = torch.reshape(x, (8,128,128))\n",
    "        return x"
   ]
  },
  {
   "cell_type": "code",
   "execution_count": null,
   "metadata": {},
   "outputs": [],
   "source": [
    "# TODO initialize net, loss, optim\n",
    "net = FFNN(input_dim = 8*128*128)\n",
    "loss = torch.nn.MSELoss()\n",
    "optim = torch.optim.Adam()\n",
    "\n",
    "# TODO training script\n",
    "losses = \n",
    "epochs = 2\n",
    "for epoch in range(epochs):\n",
    "    for batch_num, batch in enumerate(train_loader):\n",
    "        # zero gradients\n",
    "        torch.zero_grad()\n",
    "\n",
    "        # make prediction\n",
    "        pred = net.forward(batch)\n",
    "\n",
    "        # compute loss\n",
    "        loss_value = loss(pred, ground_truth)\n",
    "\n",
    "        loss.backward()\n",
    "\n",
    "        optim.step()\n",
    "\n",
    "# TODO create side by side movie for prediction\n",
    "\n",
    "\n",
    "# TODO \n",
    "\n"
   ]
  }
 ],
 "metadata": {
  "kernelspec": {
   "display_name": "msai339",
   "language": "python",
   "name": "python3"
  },
  "language_info": {
   "codemirror_mode": {
    "name": "ipython",
    "version": 3
   },
   "file_extension": ".py",
   "mimetype": "text/x-python",
   "name": "python",
   "nbconvert_exporter": "python",
   "pygments_lexer": "ipython3",
   "version": "3.10.14"
  }
 },
 "nbformat": 4,
 "nbformat_minor": 2
}
